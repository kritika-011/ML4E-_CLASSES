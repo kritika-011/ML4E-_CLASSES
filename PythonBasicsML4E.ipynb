{
  "cells": [
    {
      "cell_type": "markdown",
      "metadata": {
        "id": "PYk_eQ6qtBCB"
      },
      "source": [
        "# Python Data Types:-"
      ]
    },
    {
      "cell_type": "markdown",
      "metadata": {
        "id": "8LTp4d3ItBCD"
      },
      "source": [
        "- Numeric data types: integer, float, complex\n",
        "- String data types:  string\n",
        "- Sequence types:     list, tuple\n",
        "- Mapping data type:  dictionary\n",
        "- Boolean type:       boolean\n",
        "- Set data types:     set"
      ]
    },
    {
      "cell_type": "markdown",
      "metadata": {
        "id": "rdwk-vRStBCE"
      },
      "source": [
        "# Basic Operation:-"
      ]
    },
    {
      "cell_type": "code",
      "source": [
        "5 + 5"
      ],
      "metadata": {
        "id": "963k5wTBpW2S"
      },
      "execution_count": null,
      "outputs": []
    },
    {
      "cell_type": "code",
      "source": [
        "25 - 7"
      ],
      "metadata": {
        "id": "Hi6Dxiw9pW0E"
      },
      "execution_count": null,
      "outputs": []
    },
    {
      "cell_type": "code",
      "source": [
        "25 * 7"
      ],
      "metadata": {
        "id": "caJZIsrcpWxt"
      },
      "execution_count": null,
      "outputs": []
    },
    {
      "cell_type": "code",
      "source": [
        "25 / 7"
      ],
      "metadata": {
        "id": "bDfvcTonpWvT"
      },
      "execution_count": null,
      "outputs": []
    },
    {
      "cell_type": "code",
      "source": [
        "25 % 5"
      ],
      "metadata": {
        "id": "jAKFEZqUpWmi"
      },
      "execution_count": null,
      "outputs": []
    },
    {
      "cell_type": "code",
      "source": [
        "25 // 5"
      ],
      "metadata": {
        "id": "iQiHdZeqpWjk"
      },
      "execution_count": null,
      "outputs": []
    },
    {
      "cell_type": "markdown",
      "metadata": {
        "id": "-TaipLLTtBCL"
      },
      "source": [
        "# Print Function:-"
      ]
    },
    {
      "cell_type": "code",
      "execution_count": null,
      "metadata": {
        "id": "Cp5Pya9ftBCL"
      },
      "outputs": [],
      "source": [
        "print(\"ML4E\")"
      ]
    },
    {
      "cell_type": "code",
      "source": [
        "print(\"hello Nitr\")"
      ],
      "metadata": {
        "id": "c7FzNyVpqCRV"
      },
      "execution_count": null,
      "outputs": []
    },
    {
      "cell_type": "code",
      "source": [
        "var = input(\"What is your name? \")\n",
        "print(var)"
      ],
      "metadata": {
        "id": "3olfX0E-qQaO"
      },
      "execution_count": null,
      "outputs": []
    },
    {
      "cell_type": "code",
      "execution_count": null,
      "metadata": {
        "id": "Uky-Eb64tBCM"
      },
      "outputs": [],
      "source": [
        "name = input(\"What is your name?\")\n",
        "age = input(\"What is your age?\")\n",
        "print(name)\n",
        "print(age)"
      ]
    },
    {
      "cell_type": "code",
      "source": [
        "type(age)"
      ],
      "metadata": {
        "id": "Q6Ap82IqsIwV"
      },
      "execution_count": null,
      "outputs": []
    },
    {
      "cell_type": "code",
      "execution_count": null,
      "metadata": {
        "id": "qpmiJieVtBCM"
      },
      "outputs": [],
      "source": [
        "print(\"name\")       #Q\n",
        "print(\"age\")"
      ]
    },
    {
      "cell_type": "code",
      "source": [
        "a = 10\n",
        "b = 20"
      ],
      "metadata": {
        "id": "cK5Yw4gnrGFF"
      },
      "execution_count": null,
      "outputs": []
    },
    {
      "cell_type": "code",
      "execution_count": null,
      "metadata": {
        "id": "D4eE0JlxtBCM"
      },
      "outputs": [],
      "source": [
        "print(a+b)"
      ]
    },
    {
      "cell_type": "code",
      "execution_count": null,
      "metadata": {
        "id": "ss8y6FujtBCM"
      },
      "outputs": [],
      "source": [
        "print(name + age)"
      ]
    },
    {
      "cell_type": "code",
      "source": [
        "print(a)\n",
        "print(name)"
      ],
      "metadata": {
        "id": "j82uxQ_XrwuZ"
      },
      "execution_count": null,
      "outputs": []
    },
    {
      "cell_type": "code",
      "execution_count": null,
      "metadata": {
        "id": "UckewPoWtBCM"
      },
      "outputs": [],
      "source": [
        "print(name + a)"
      ]
    },
    {
      "cell_type": "code",
      "execution_count": null,
      "metadata": {
        "id": "fv2dUXuQtBCM"
      },
      "outputs": [],
      "source": [
        "print(name + \"b\")"
      ]
    },
    {
      "cell_type": "code",
      "source": [
        "# My name is ram and age is 20."
      ],
      "metadata": {
        "id": "pq17uDNB-9Sq"
      },
      "execution_count": null,
      "outputs": []
    },
    {
      "cell_type": "code",
      "execution_count": null,
      "metadata": {
        "id": "vidv7JKktBCR"
      },
      "outputs": [],
      "source": [
        "print(\"abc\" + \"pqr\")"
      ]
    },
    {
      "cell_type": "code",
      "execution_count": null,
      "metadata": {
        "id": "2qKIO8V_tBCR"
      },
      "outputs": [],
      "source": [
        "print(\"abc\" + \"\\n\" + \"pqr\")"
      ]
    },
    {
      "cell_type": "markdown",
      "metadata": {
        "id": "cB5ukZkqtBCR"
      },
      "source": [
        "# Python List, String Slicing:-  \n",
        "__Lst[ Initial : End : IndexJump ]__"
      ]
    },
    {
      "cell_type": "code",
      "execution_count": null,
      "metadata": {
        "id": "-vzJPhkBtBCR"
      },
      "outputs": [],
      "source": [
        "str = \"I am learning Coding\"\n",
        "print(str)"
      ]
    },
    {
      "cell_type": "code",
      "execution_count": null,
      "metadata": {
        "id": "L1TNUmkjtBCR"
      },
      "outputs": [],
      "source": [
        "type(str)"
      ]
    },
    {
      "cell_type": "code",
      "execution_count": null,
      "metadata": {
        "id": "3Roqsw9mtBCR"
      },
      "outputs": [],
      "source": [
        "str[0]"
      ]
    },
    {
      "cell_type": "code",
      "execution_count": null,
      "metadata": {
        "id": "51GqXvoLtBCR"
      },
      "outputs": [],
      "source": [
        "str[4]"
      ]
    },
    {
      "cell_type": "code",
      "source": [],
      "metadata": {
        "id": "suIF3fC3_8oS"
      },
      "execution_count": null,
      "outputs": []
    },
    {
      "cell_type": "code",
      "source": [],
      "metadata": {
        "id": "85TqWfo5_8dQ"
      },
      "execution_count": null,
      "outputs": []
    },
    {
      "cell_type": "code",
      "source": [],
      "metadata": {
        "id": "FoJ0qpccszwb"
      },
      "execution_count": null,
      "outputs": []
    },
    {
      "cell_type": "code",
      "source": [
        "lst1 = [\"ram\",\"coding\"]"
      ],
      "metadata": {
        "id": "lW9ZV8I8s2Ga"
      },
      "execution_count": null,
      "outputs": []
    },
    {
      "cell_type": "code",
      "source": [
        "type(lst1)"
      ],
      "metadata": {
        "id": "5hGqmgOss72I"
      },
      "execution_count": null,
      "outputs": []
    },
    {
      "cell_type": "code",
      "execution_count": null,
      "metadata": {
        "id": "EOO9UF5etBCS"
      },
      "outputs": [],
      "source": [
        "lst = [0,1,2,3,4,5,6,7,8,9]"
      ]
    },
    {
      "cell_type": "code",
      "execution_count": null,
      "metadata": {
        "id": "rEISYdYVtBCS"
      },
      "outputs": [],
      "source": [
        "lst[3]"
      ]
    },
    {
      "cell_type": "code",
      "execution_count": null,
      "metadata": {
        "id": "ekuWPej3tBCS"
      },
      "outputs": [],
      "source": [
        "lst[0:9]"
      ]
    },
    {
      "cell_type": "code",
      "execution_count": null,
      "metadata": {
        "id": "H0sXlvcZtBCS"
      },
      "outputs": [],
      "source": [
        "lst[0:9:1]"
      ]
    },
    {
      "cell_type": "code",
      "source": [
        "lst"
      ],
      "metadata": {
        "id": "-2qF_LRltn6I"
      },
      "execution_count": null,
      "outputs": []
    },
    {
      "cell_type": "code",
      "execution_count": null,
      "metadata": {
        "id": "st1tZBTftBCS"
      },
      "outputs": [],
      "source": [
        "lst[0:9:2]      #Q"
      ]
    },
    {
      "cell_type": "code",
      "execution_count": null,
      "metadata": {
        "id": "EKqLFwSbtBCS"
      },
      "outputs": [],
      "source": [
        "lst[:9:1]       #Q"
      ]
    },
    {
      "cell_type": "code",
      "execution_count": null,
      "metadata": {
        "id": "IgS6W_3XtBCS"
      },
      "outputs": [],
      "source": [
        "lst[3:9]        #Q"
      ]
    },
    {
      "cell_type": "code",
      "execution_count": null,
      "metadata": {
        "id": "V7yn_9iWtBCS"
      },
      "outputs": [],
      "source": [
        "lst[-1]"
      ]
    },
    {
      "cell_type": "code",
      "execution_count": null,
      "metadata": {
        "id": "VhSD3PRwtBCS"
      },
      "outputs": [],
      "source": [
        "lst"
      ]
    },
    {
      "cell_type": "code",
      "execution_count": null,
      "metadata": {
        "id": "MupsYvoMtBCT"
      },
      "outputs": [],
      "source": [
        "lst[-3]"
      ]
    },
    {
      "cell_type": "code",
      "source": [
        "lst"
      ],
      "metadata": {
        "id": "2ltKSg-Yt-4h"
      },
      "execution_count": null,
      "outputs": []
    },
    {
      "cell_type": "code",
      "execution_count": null,
      "metadata": {
        "id": "FJtgvBDTtBCT"
      },
      "outputs": [],
      "source": [
        "lst[-1:-10:1]       #Q"
      ]
    },
    {
      "cell_type": "code",
      "execution_count": null,
      "metadata": {
        "id": "Eq4FtWxwtBCT"
      },
      "outputs": [],
      "source": [
        "lst[-1:-10:-1]      #Q"
      ]
    },
    {
      "cell_type": "code",
      "execution_count": null,
      "metadata": {
        "id": "SeWa4dh1tBCT"
      },
      "outputs": [],
      "source": [
        "lst[-1:-10:-1]      #Q"
      ]
    },
    {
      "cell_type": "code",
      "execution_count": null,
      "metadata": {
        "id": "xRWRO_G7tBCT"
      },
      "outputs": [],
      "source": [
        "lst[-1:-10:-2]      #Q"
      ]
    },
    {
      "cell_type": "code",
      "execution_count": null,
      "metadata": {
        "id": "_uyjhuxvtBCT"
      },
      "outputs": [],
      "source": [
        "lst[::]             #Q"
      ]
    },
    {
      "cell_type": "code",
      "execution_count": null,
      "metadata": {
        "id": "VN0_qB2ftBCT"
      },
      "outputs": [],
      "source": [
        "lst[::-1]           #Shortcut for reverse of a list"
      ]
    },
    {
      "cell_type": "code",
      "execution_count": null,
      "metadata": {
        "id": "NttqVH7ItBCT"
      },
      "outputs": [],
      "source": [
        "lst[:-90000:-1]     #Q"
      ]
    },
    {
      "cell_type": "code",
      "execution_count": null,
      "metadata": {
        "id": "CapdMnqotBCT"
      },
      "outputs": [],
      "source": [
        "lst[:-9000:]        #Q"
      ]
    },
    {
      "cell_type": "markdown",
      "metadata": {
        "id": "GgwNs_RItBCU"
      },
      "source": [
        "# String Operations:-\n"
      ]
    },
    {
      "cell_type": "markdown",
      "metadata": {
        "id": "6BLiHN6UtBCU"
      },
      "source": [
        "- capitalize()\t   - Converts the first character to upper case\n",
        "- casefold()\t   - Converts string into lower case\n",
        "- center()\t       - Returns a centered string\n",
        "- count()\t       - Returns the number of times a specified value occurs in a string\n",
        "- encode()\t       - Returns an encoded version of the string\n",
        "- endswith()\t   - Returns true if the string ends with the specified value\n",
        "- expandtabs()\t   - Sets the tab size of the string\n",
        "- find()\t       - Searches the string for a specified value and returns the position of where it was found\n",
        "- format()\t       - Formats specified values in a string\n",
        "- format_map()\t   - Formats specified values in a string\n",
        "- index()\t       - Searches the string for a specified value and returns the position of where it was found\n",
        "- isalnum()\t       - Returns True if all characters in the string are alphanumeric\n",
        "- isalpha()\t       - Returns True if all characters in the string are in the alphabet\n",
        "- isascii()\t       - Returns True if all characters in the string are ascii characters\n",
        "- isdecimal()\t   - Returns True if all characters in the string are decimals\n",
        "- isdigit()\t       - Returns True if all characters in the string are digits\n",
        "- isidentifier()   - Returns True if the string is an identifier\n",
        "- islower()\t       - Returns True if all characters in the string are lower case\n",
        "- isnumeric()\t   - Returns True if all characters in the string are numeric\n",
        "- isprintable()\t   - Returns True if all characters in the string are printable\n",
        "- isspace()\t       - Returns True if all characters in the string are whitespaces\n",
        "- istitle()\t       - Returns True if the string follows the rules of a title\n",
        "- isupper()\t       - Returns True if all characters in the string are upper case\n",
        "- join()\t       - Converts the elements of an iterable into a string\n",
        "- ljust()\t       - Returns a left justified version of the string\n",
        "- lower()\t       - Converts a string into lower case\n",
        "- lstrip()\t       - Returns a left trim version of the string\n",
        "- maketrans()\t   - Returns a translation table to be used in translations\n",
        "- partition()      - Returns a tuple where the string is parted into three parts\n",
        "- replace()\t       - Returns a string where a specified value is replaced with a specified value\n",
        "- rfind()\t       - Searches the string for a specified value and returns the last position of where it was found\n",
        "- rindex()\t       - Searches the string for a specified value and returns the last position of where it was found\n",
        "- rjust()\t       - Returns a right justified version of the string\n",
        "- rpartition()\t   - Returns a tuple where the string is parted into three parts\n",
        "- rsplit()\t       - Splits the string at the specified separator, and returns a list\n",
        "- rstrip()\t       - Returns a right trim version of the string\n",
        "- split()\t       - Splits the string at the specified separator, and returns a list\n",
        "- splitlines()\t   - Splits the string at line breaks and returns a list\n",
        "- startswith()\t   - Returns true if the string starts with the specified value\n",
        "- strip()\t       - Returns a trimmed version of the string\n",
        "- swapcase()\t   - Swaps cases, lower case becomes upper case and vice versa\n",
        "- title()          - Converts the first character of each word to upper case\n",
        "- translate()\t   - Returns a translated string\n",
        "- upper()\t       - Converts a string into upper case\n",
        "- zfill()\t       - Fills the string with a specified number of 0 values at the beginning"
      ]
    },
    {
      "cell_type": "code",
      "execution_count": null,
      "metadata": {
        "id": "YRcjACH-tBCU"
      },
      "outputs": [],
      "source": [
        "str = \"I am learning Coding\"\n",
        "print(str)"
      ]
    },
    {
      "cell_type": "code",
      "execution_count": null,
      "metadata": {
        "id": "-lVc9nbEtBCU"
      },
      "outputs": [],
      "source": [
        "len(str)            #Q"
      ]
    },
    {
      "cell_type": "code",
      "execution_count": null,
      "metadata": {
        "id": "3Tt9qckstBCU"
      },
      "outputs": [],
      "source": [
        "type(str)              #find()"
      ]
    },
    {
      "cell_type": "code",
      "source": [
        "str.find(\"a\")"
      ],
      "metadata": {
        "id": "OgZkAq1_upRi"
      },
      "execution_count": null,
      "outputs": []
    },
    {
      "cell_type": "code",
      "execution_count": null,
      "metadata": {
        "id": "T6XQ78qotBCU"
      },
      "outputs": [],
      "source": [
        "str.find(\"L\")       #Q"
      ]
    },
    {
      "cell_type": "code",
      "source": [
        "#join()"
      ],
      "metadata": {
        "id": "WVchHQiGMB9c"
      },
      "execution_count": null,
      "outputs": []
    },
    {
      "cell_type": "code",
      "execution_count": null,
      "metadata": {
        "id": "1jiLsZeRtBCU"
      },
      "outputs": [],
      "source": [
        "str.find(\"ar\")"
      ]
    },
    {
      "cell_type": "code",
      "execution_count": null,
      "metadata": {
        "id": "R6j_3atRtBCV"
      },
      "outputs": [],
      "source": [
        "str.count(\"n\")"
      ]
    },
    {
      "cell_type": "code",
      "execution_count": null,
      "metadata": {
        "id": "LHQ3vksVtBCV"
      },
      "outputs": [],
      "source": [
        "str.upper()"
      ]
    },
    {
      "cell_type": "code",
      "execution_count": null,
      "metadata": {
        "id": "VS7ARPVDtBCV"
      },
      "outputs": [],
      "source": [
        "str.lower()"
      ]
    },
    {
      "cell_type": "code",
      "execution_count": null,
      "metadata": {
        "id": "u-L_ZaT-tBCV"
      },
      "outputs": [],
      "source": [
        "str * 3     #Q"
      ]
    },
    {
      "cell_type": "markdown",
      "metadata": {
        "id": "gCE71pzrtBCV"
      },
      "source": [
        "# List Operations:-\n"
      ]
    },
    {
      "cell_type": "markdown",
      "metadata": {
        "id": "QQSt8uwMtBCV"
      },
      "source": [
        "- append()\t- Adds an element at the end of the list\n",
        "- clear()\t- Removes all the elements from the list\n",
        "- copy()\t- Returns a copy of the list\n",
        "- count()\t- Returns the number of elements with the specified value\n",
        "- extend()\t- Add the elements of a list (or any iterable), to the end of the current list\n",
        "- index()\t- Returns the index of the first element with the specified value\n",
        "- insert()\t- Adds an element at the specified position\n",
        "- pop()\t    - Removes the element at the specified position\n",
        "- remove()\t- Removes the first item with the specified value\n",
        "- reverse()\t- Reverses the order of the list\n",
        "- sort()\t- Sorts the list"
      ]
    },
    {
      "cell_type": "code",
      "execution_count": null,
      "metadata": {
        "id": "6hSYHB2btBCV"
      },
      "outputs": [],
      "source": [
        "lst = [123,\"ML4E\",456,\"Coding\",\"Me\",True,9.99]"
      ]
    },
    {
      "cell_type": "code",
      "source": [
        "lst.append(\"ram\")"
      ],
      "metadata": {
        "id": "EAbi9WaJLif-"
      },
      "execution_count": null,
      "outputs": []
    },
    {
      "cell_type": "code",
      "source": [
        "lst"
      ],
      "metadata": {
        "id": "KnAfnCE7Lidx"
      },
      "execution_count": null,
      "outputs": []
    },
    {
      "cell_type": "code",
      "source": [],
      "metadata": {
        "id": "JMU63g4qLibI"
      },
      "execution_count": null,
      "outputs": []
    },
    {
      "cell_type": "code",
      "source": [],
      "metadata": {
        "id": "OAeNj9TDLiYv"
      },
      "execution_count": null,
      "outputs": []
    },
    {
      "cell_type": "code",
      "source": [],
      "metadata": {
        "id": "rW9nDSKrLiWe"
      },
      "execution_count": null,
      "outputs": []
    },
    {
      "cell_type": "code",
      "source": [],
      "metadata": {
        "id": "WzGSP2L7LiT-"
      },
      "execution_count": null,
      "outputs": []
    },
    {
      "cell_type": "code",
      "source": [],
      "metadata": {
        "id": "eQN69uagLiRs"
      },
      "execution_count": null,
      "outputs": []
    },
    {
      "cell_type": "code",
      "source": [],
      "metadata": {
        "id": "ZTOi2KJVLiPF"
      },
      "execution_count": null,
      "outputs": []
    },
    {
      "cell_type": "code",
      "source": [],
      "metadata": {
        "id": "WDlnpuAnLiMl"
      },
      "execution_count": null,
      "outputs": []
    },
    {
      "cell_type": "code",
      "execution_count": null,
      "metadata": {
        "id": "_vWeTuA0tBCW"
      },
      "outputs": [],
      "source": [
        "print(lst)\n",
        "lst.append(\"Python\")\n",
        "print(lst)"
      ]
    },
    {
      "cell_type": "code",
      "execution_count": null,
      "metadata": {
        "id": "D_cdydfntBCW"
      },
      "outputs": [],
      "source": [
        "lst_1 = [9,6,8,5,7]"
      ]
    },
    {
      "cell_type": "code",
      "execution_count": null,
      "metadata": {
        "id": "FRi02FAytBCW"
      },
      "outputs": [],
      "source": [
        "lst_copy_1 = lst.copy()\n",
        "lst_copy_2 = lst.copy()"
      ]
    },
    {
      "cell_type": "code",
      "execution_count": null,
      "metadata": {
        "id": "8lpf5Wo7tBCX"
      },
      "outputs": [],
      "source": [
        "print(lst_copy_1)\n",
        "print(lst_copy_2)"
      ]
    },
    {
      "cell_type": "code",
      "execution_count": null,
      "metadata": {
        "id": "OzHeBDwbtBCX"
      },
      "outputs": [],
      "source": [
        "lst_copy_1.append(lst_1)\n",
        "lst_copy_2.extend(lst_1)\n",
        "print(lst_copy_1)\n",
        "print(lst_copy_2)"
      ]
    },
    {
      "cell_type": "code",
      "source": [
        "lst"
      ],
      "metadata": {
        "id": "FcBQNmMtwDDc"
      },
      "execution_count": null,
      "outputs": []
    },
    {
      "cell_type": "code",
      "execution_count": null,
      "metadata": {
        "id": "PjHSgxGwtBCX"
      },
      "outputs": [],
      "source": [
        "print(lst)\n",
        "lst.insert(3,\"Hi\")"
      ]
    },
    {
      "cell_type": "code",
      "source": [
        "lst"
      ],
      "metadata": {
        "id": "ATj8GEKwwPmt"
      },
      "execution_count": null,
      "outputs": []
    },
    {
      "cell_type": "code",
      "execution_count": null,
      "metadata": {
        "id": "Q8UvrmnxtBCX"
      },
      "outputs": [],
      "source": [
        "print(lst)\n",
        "lst.pop(2)                  # Index is given\n",
        "print(lst)"
      ]
    },
    {
      "cell_type": "code",
      "execution_count": null,
      "metadata": {
        "id": "DS4NsmQctBCX"
      },
      "outputs": [],
      "source": [
        "print(lst)\n",
        "lst.remove(\"Coding\")        # Item is given\n",
        "print(lst)"
      ]
    },
    {
      "cell_type": "code",
      "execution_count": null,
      "metadata": {
        "id": "s3n1_UnhtBCX"
      },
      "outputs": [],
      "source": [
        "print(lst)\n",
        "lst.reverse()\n",
        "print(lst)"
      ]
    },
    {
      "cell_type": "code",
      "execution_count": null,
      "metadata": {
        "id": "U6q296R2tBCX"
      },
      "outputs": [],
      "source": [
        "print(lst)\n",
        "lst.index(\"ML4E\")"
      ]
    },
    {
      "cell_type": "code",
      "execution_count": null,
      "metadata": {
        "id": "k9SQBhhZtBCX"
      },
      "outputs": [],
      "source": [
        "print(lst_1)\n",
        "lst_1.sort()\n",
        "print(lst_1)"
      ]
    },
    {
      "cell_type": "markdown",
      "metadata": {
        "id": "e-1cbqYEtBCY"
      },
      "source": [
        "# Tuple, Set and Dictionary Operations:-"
      ]
    },
    {
      "cell_type": "code",
      "source": [
        "#Tuple"
      ],
      "metadata": {
        "id": "LiUvlqKYK2a9"
      },
      "execution_count": null,
      "outputs": []
    },
    {
      "cell_type": "code",
      "source": [
        "tup = (\"coding\",\"ram\")"
      ],
      "metadata": {
        "id": "oGfX10SNK2XZ"
      },
      "execution_count": null,
      "outputs": []
    },
    {
      "cell_type": "code",
      "source": [
        "tup[1]"
      ],
      "metadata": {
        "id": "aGyMDeO5K2VI"
      },
      "execution_count": null,
      "outputs": []
    },
    {
      "cell_type": "code",
      "source": [],
      "metadata": {
        "id": "GvPMTHOwK2SO"
      },
      "execution_count": null,
      "outputs": []
    },
    {
      "cell_type": "code",
      "source": [],
      "metadata": {
        "id": "4Oi-BtaGK2Pm"
      },
      "execution_count": null,
      "outputs": []
    },
    {
      "cell_type": "code",
      "execution_count": null,
      "metadata": {
        "id": "Hq5nAINAtBCZ"
      },
      "outputs": [],
      "source": [
        "set = {\"ML4E\",\"Coding\",\"Me\",\"True\",123,\"fun\",\"Coding\",\"ML4E\",456}"
      ]
    },
    {
      "cell_type": "code",
      "execution_count": null,
      "metadata": {
        "id": "VxuFFs3JtBCZ"
      },
      "outputs": [],
      "source": []
    },
    {
      "cell_type": "code",
      "source": [],
      "metadata": {
        "id": "WEgxci4QK_MX"
      },
      "execution_count": null,
      "outputs": []
    },
    {
      "cell_type": "code",
      "source": [],
      "metadata": {
        "id": "tHNoqiEBK_CW"
      },
      "execution_count": null,
      "outputs": []
    },
    {
      "cell_type": "code",
      "source": [],
      "metadata": {
        "id": "sJaUdnrTK-6P"
      },
      "execution_count": null,
      "outputs": []
    },
    {
      "cell_type": "code",
      "execution_count": null,
      "metadata": {
        "id": "NQaP-jgTtBCZ"
      },
      "outputs": [],
      "source": []
    },
    {
      "cell_type": "code",
      "execution_count": null,
      "metadata": {
        "id": "US2_GFnztBCZ"
      },
      "outputs": [],
      "source": []
    },
    {
      "cell_type": "code",
      "execution_count": null,
      "metadata": {
        "id": "urqjr5w9tBCZ"
      },
      "outputs": [],
      "source": []
    },
    {
      "cell_type": "code",
      "source": [],
      "metadata": {
        "id": "TuFvJ9-Z9c7F"
      },
      "execution_count": null,
      "outputs": []
    },
    {
      "cell_type": "code",
      "source": [
        "lst = [1,3,4]"
      ],
      "metadata": {
        "id": "FrAhAHNg9qfY"
      },
      "execution_count": null,
      "outputs": []
    },
    {
      "cell_type": "code",
      "execution_count": null,
      "metadata": {
        "id": "OdgHXiPctBCZ"
      },
      "outputs": [],
      "source": [
        "dictionary = {\n",
        "                \"Name\":\"ML4E\",\n",
        "                \"Language\":\"Python\",\n",
        "                \"Doing\":\"Coding\",\n",
        "                \"Lst\":lst,\n",
        "            }"
      ]
    },
    {
      "cell_type": "code",
      "execution_count": null,
      "metadata": {
        "id": "Nky_hrq9tBCZ"
      },
      "outputs": [],
      "source": [
        "dictionary"
      ]
    },
    {
      "cell_type": "code",
      "execution_count": null,
      "metadata": {
        "id": "wpURFeTwtBCa"
      },
      "outputs": [],
      "source": [
        "type(dictionary)"
      ]
    },
    {
      "cell_type": "code",
      "execution_count": null,
      "metadata": {
        "id": "I5xst1n7tBCa"
      },
      "outputs": [],
      "source": [
        "dictionary.keys()"
      ]
    },
    {
      "cell_type": "code",
      "execution_count": null,
      "metadata": {
        "id": "10SvoAvqtBCa"
      },
      "outputs": [],
      "source": [
        "dictionary.values()"
      ]
    },
    {
      "cell_type": "code",
      "execution_count": null,
      "metadata": {
        "id": "Ar_RanuLtBCa"
      },
      "outputs": [],
      "source": [
        "dictionary.items()"
      ]
    },
    {
      "cell_type": "code",
      "execution_count": null,
      "metadata": {
        "id": "P8UJ2_OntBCa"
      },
      "outputs": [],
      "source": [
        "dictionary[\"Doing\"]"
      ]
    },
    {
      "cell_type": "code",
      "execution_count": null,
      "metadata": {
        "id": "4x4OYiZ6tBCa"
      },
      "outputs": [],
      "source": [
        "dictionary[\"Name\"] = \"Club\"\n",
        "dictionary"
      ]
    },
    {
      "cell_type": "markdown",
      "metadata": {
        "id": "g4jEbkqAtBCa"
      },
      "source": [
        "# Conditional Statements:-"
      ]
    },
    {
      "cell_type": "code",
      "execution_count": null,
      "metadata": {
        "id": "CEo_1Qg_tBCa"
      },
      "outputs": [],
      "source": [
        "10 > 80"
      ]
    },
    {
      "cell_type": "code",
      "execution_count": null,
      "metadata": {
        "id": "CznghWXrtBCa"
      },
      "outputs": [],
      "source": [
        "10 >= 10"
      ]
    },
    {
      "cell_type": "code",
      "source": [
        "10 == 10"
      ],
      "metadata": {
        "id": "3KOW8ViQwmG9"
      },
      "execution_count": null,
      "outputs": []
    },
    {
      "cell_type": "code",
      "source": [
        "price = int(input(\"Enter price: \"))\n",
        "if price > 1000:\n",
        "    print(\"I will not purchase.\")\n",
        "else :\n",
        "    print(\"I will purchase.\")"
      ],
      "metadata": {
        "id": "54smvaC_LQR5"
      },
      "execution_count": null,
      "outputs": []
    },
    {
      "cell_type": "code",
      "execution_count": null,
      "metadata": {
        "id": "zf6ruciOtBCa"
      },
      "outputs": [],
      "source": [
        "\n",
        "marks = int(input(\"Enter your marks: \"))\n",
        "if marks >= 80:\n",
        "    print(\"you will be a part of A0 batch\")\n",
        "elif marks >= 60 and marks< 80:\n",
        "    print(\"you will be a part of A1 batch\")\n",
        "elif marks >= 40 and marks < 60:\n",
        "    print(\"you will be a part of A2 batch\")\n",
        "else :\n",
        "    print(\"you will be a part of A3 batch\")"
      ]
    },
    {
      "cell_type": "code",
      "execution_count": null,
      "metadata": {
        "id": "Jzpp8xLrtBCb"
      },
      "outputs": [],
      "source": [
        "price = int(input(\"Enter price: \"))     # 200, 600, 1500, 6000    #Q\n",
        "if price > 1000:\n",
        "    print(\"i will not purchase\")\n",
        "    if price > 5000:\n",
        "        print(\"this is too much \")\n",
        "    elif price < 2000 :\n",
        "        print(\"it is little higher\")\n",
        "elif price < 1000 or price > 500 :\n",
        "    print(\"i will purchase\")\n",
        "else :\n",
        "    print(\"not interested \")"
      ]
    },
    {
      "cell_type": "markdown",
      "metadata": {
        "id": "EYHXOXi_tBCb"
      },
      "source": [
        "# For Loop:-"
      ]
    },
    {
      "cell_type": "code",
      "execution_count": null,
      "metadata": {
        "id": "eCcBzZtAtBCb"
      },
      "outputs": [],
      "source": [
        "l = [1,2,3,4,5,6,7,8]\n",
        "l1 = []\n",
        "\n",
        "for i in l :\n",
        "    l1.append(i)\n",
        "    print(i)\n",
        "\n",
        "print(l1)"
      ]
    },
    {
      "cell_type": "code",
      "execution_count": null,
      "metadata": {
        "id": "32QekklRtBCb"
      },
      "outputs": [],
      "source": [
        "l = [1,2,3,4,5,7.55,9.66,4.99,0.22,\"ML4E\",\"Coding\",\"Python\"]\n",
        "l_num = []\n",
        "l_str = []\n",
        "\n",
        "for i in l :\n",
        "    if type(i) == int or type(i) == float :\n",
        "        l_num.append(i)\n",
        "    else:\n",
        "        l_str.append(i)\n",
        "\n",
        "print(\"l_num\", l_num)\n",
        "print(\"l_str\", l_str)"
      ]
    },
    {
      "cell_type": "code",
      "execution_count": null,
      "metadata": {
        "id": "J3u_Oz5RtBCb"
      },
      "outputs": [],
      "source": [
        "for ab in \"abhishek\":       #Q\n",
        "    print(ab)\n",
        "    print(\"ab\")"
      ]
    },
    {
      "cell_type": "code",
      "execution_count": null,
      "metadata": {
        "id": "28QCvjbItBCb"
      },
      "outputs": [],
      "source": [
        "dict = {'a': 'akshat', 'b': 'bhuvan', 'c': 'chandan'}\n",
        "print(dict.items())\n"
      ]
    },
    {
      "cell_type": "code",
      "execution_count": null,
      "metadata": {
        "id": "KvdrW3YrtBCb"
      },
      "outputs": [],
      "source": [
        "keys = []\n",
        "values = []\n",
        "\n",
        "for item in dict.items():\n",
        "    keys.append(item[0]), values.append(item[1])\n",
        "\n",
        "print(\"keys : \", keys)\n",
        "print(\"values : \", values)"
      ]
    },
    {
      "cell_type": "code",
      "execution_count": null,
      "metadata": {
        "id": "9RR_V1n-tBCb"
      },
      "outputs": [],
      "source": [
        "for i in range(0,10):\n",
        "    print(i)"
      ]
    },
    {
      "cell_type": "code",
      "execution_count": null,
      "metadata": {
        "id": "3VZslHnltBCc"
      },
      "outputs": [],
      "source": [
        "for i in range(0,10,2):\n",
        "    print(i)"
      ]
    },
    {
      "cell_type": "code",
      "execution_count": null,
      "metadata": {
        "id": "HLl2SwbntBCc"
      },
      "outputs": [],
      "source": [
        "l = [1,2,3,4,5,7.55,9.66,4.99,0.22,\"ML4E\",\"Coding\",7,2,9,\"stop\",4,3,6,\"Python\"]\n",
        "# l_num = []\n",
        "l_str = []\n",
        "\n",
        "for i in l :\n",
        "    if type(i) == int or type(i) == float :\n",
        "        continue\n",
        "        print(\"Not reachable\")\n",
        "    elif i == \"stop\":\n",
        "        break\n",
        "        print(\"Not reachable\")\n",
        "    else:\n",
        "        l_str.append(i)\n",
        "        print(i)\n",
        "\n",
        "# print(\"l_num\", l_num)\n",
        "print(\"l_str\", l_str)"
      ]
    },
    {
      "cell_type": "markdown",
      "metadata": {
        "id": "KdjoyB76tBCc"
      },
      "source": [
        "# List and Dictionary comprehension:-"
      ]
    },
    {
      "cell_type": "code",
      "execution_count": null,
      "metadata": {
        "id": "yDOGAHs8tBCc"
      },
      "outputs": [],
      "source": [
        "l = [1,2,3,4,5]\n",
        "l_squared = []\n",
        "\n",
        "for i in l :\n",
        "    l_squared.append(i**2)\n",
        "\n",
        "print(l_squared)"
      ]
    },
    {
      "cell_type": "code",
      "source": [
        "l_squared = [i**2 for i in l]"
      ],
      "metadata": {
        "id": "rfpK6klV8Qcw"
      },
      "execution_count": null,
      "outputs": []
    },
    {
      "cell_type": "code",
      "execution_count": null,
      "metadata": {
        "id": "3o9FY0jutBCc"
      },
      "outputs": [],
      "source": [
        "l_squared = [i**2 for i in l]\n",
        "print(l_squared)"
      ]
    },
    {
      "cell_type": "code",
      "source": [
        "l"
      ],
      "metadata": {
        "id": "0nM0-UfP8sCr"
      },
      "execution_count": null,
      "outputs": []
    },
    {
      "cell_type": "code",
      "execution_count": null,
      "metadata": {
        "id": "5EectanTtBCc"
      },
      "outputs": [],
      "source": [
        "print(l)\n",
        "print([i for i in l if i % 2 == 0 ])"
      ]
    },
    {
      "cell_type": "code",
      "execution_count": null,
      "metadata": {
        "id": "brBOW-VOtBCc"
      },
      "outputs": [],
      "source": [
        "d = {\"key1\" : 1 ,\n",
        "     \"key2\" : 2 ,\n",
        "     \"key3\" : 3 ,\n",
        "     \"key4\" : 4\n",
        "     }"
      ]
    },
    {
      "cell_type": "code",
      "execution_count": null,
      "metadata": {
        "id": "1gLkuOQetBCc"
      },
      "outputs": [],
      "source": [
        "print({k : v for k , v in d.items() if v > 2 })"
      ]
    },
    {
      "cell_type": "code",
      "source": [
        "\"Write a code to add odd numbers from 1 to 100 using list comprehension.\""
      ],
      "metadata": {
        "id": "L36Q5qhE7BEk"
      },
      "execution_count": null,
      "outputs": []
    },
    {
      "cell_type": "markdown",
      "metadata": {
        "id": "fEFAlLLQtBCc"
      },
      "source": [
        "# While Loop:-"
      ]
    },
    {
      "cell_type": "code",
      "source": [
        "a = 0"
      ],
      "metadata": {
        "id": "BaiQYmcp5kaF"
      },
      "execution_count": null,
      "outputs": []
    },
    {
      "cell_type": "code",
      "source": [
        "a = a+1"
      ],
      "metadata": {
        "id": "6H5SrM_-5rVj"
      },
      "execution_count": null,
      "outputs": []
    },
    {
      "cell_type": "code",
      "source": [
        "a"
      ],
      "metadata": {
        "id": "-JeJwCHA5uoN"
      },
      "execution_count": null,
      "outputs": []
    },
    {
      "cell_type": "code",
      "source": [
        "a += 1"
      ],
      "metadata": {
        "id": "454Tgq5Y5yRw"
      },
      "execution_count": null,
      "outputs": []
    },
    {
      "cell_type": "code",
      "source": [
        "a"
      ],
      "metadata": {
        "id": "8FtK1OC052Uq"
      },
      "execution_count": null,
      "outputs": []
    },
    {
      "cell_type": "code",
      "execution_count": null,
      "metadata": {
        "id": "dra5u-4NtBCd"
      },
      "outputs": [],
      "source": [
        "a = 1\n",
        "\n",
        "while a <= 10 :\n",
        "    print(a)\n",
        "    a += 1"
      ]
    },
    {
      "cell_type": "code",
      "execution_count": null,
      "metadata": {
        "id": "fzO_RTX5tBCd"
      },
      "outputs": [],
      "source": [
        "n = int(input(\"Enter your limit: \"))        # Sum to the limit\n",
        "sum = 0\n",
        "counter = 1\n",
        "\n",
        "while counter <= n:\n",
        "    sum = sum + counter\n",
        "    counter = counter + 1\n",
        "print(sum)"
      ]
    },
    {
      "cell_type": "code",
      "execution_count": null,
      "metadata": {
        "id": "0y7zz3pAtBCd"
      },
      "outputs": [],
      "source": [
        "number = int(input(\"Enter the number of element you are looking for: \"))    # Fibonacci series 0,1,1,2,3,5,8,......\n",
        "a , b  = 0 , 1\n",
        "counter = 0\n",
        "\n",
        "while counter < number :\n",
        "    print(a)\n",
        "    c = a + b\n",
        "    a = b\n",
        "    b = c\n",
        "    counter += 1"
      ]
    },
    {
      "cell_type": "code",
      "execution_count": null,
      "metadata": {
        "id": "wxjTqxP1tBCd"
      },
      "outputs": [],
      "source": [
        "n = int(input(\"Enter your number: \"))       # Table\n",
        "i = 1\n",
        "\n",
        "while i <= 10  :\n",
        "    result = n * i\n",
        "    print(n ,\"*\" , i ,\"=\" ,result)\n",
        "    i += 1"
      ]
    },
    {
      "cell_type": "code",
      "execution_count": null,
      "metadata": {
        "id": "2a4PeHfjtBCd"
      },
      "outputs": [],
      "source": [
        "n = int(input(\"Enter your number: \"))\n",
        "i = 0\n",
        "\n",
        "while i <= n :\n",
        "    print(i)\n",
        "    if i == 10 :\n",
        "        break\n",
        "    i += 1\n",
        "else :\n",
        "    print(\"This will be executed once while loop complete it succesfully\")"
      ]
    },
    {
      "cell_type": "code",
      "execution_count": null,
      "metadata": {
        "id": "jVM7dtsntBCd"
      },
      "outputs": [],
      "source": []
    },
    {
      "cell_type": "code",
      "source": [],
      "metadata": {
        "id": "RgBWwr9Y8d8A"
      },
      "execution_count": null,
      "outputs": []
    },
    {
      "cell_type": "markdown",
      "source": [
        "# Challenges:-"
      ],
      "metadata": {
        "id": "rOGCIBcXDJfv"
      }
    },
    {
      "cell_type": "code",
      "source": [
        "\"learning\"[::-1].upper().replace(\"INRA\", \"done\").islower()"
      ],
      "metadata": {
        "id": "GaLKAr_P4A9B"
      },
      "execution_count": null,
      "outputs": []
    },
    {
      "cell_type": "code",
      "source": [
        "string = \"l e a r n i n g\"\n",
        "\"#\".join(string.replace(\" \", \"\"))"
      ],
      "metadata": {
        "id": "BGG7yj7e6vSp"
      },
      "execution_count": null,
      "outputs": []
    },
    {
      "cell_type": "code",
      "source": [
        "string.replace(\" \", \"\")"
      ],
      "metadata": {
        "id": "CjceaVfr_sN1"
      },
      "execution_count": null,
      "outputs": []
    },
    {
      "cell_type": "code",
      "source": [
        "\"Fizzbuzz\"\n",
        "\"\"\" 1, 2, Fizz, 4, Buzz, Fizz, 7, 8, Fizz, Buzz, 11, Fizz, 13, 14, Fizz Buzz, 16, 17, Fizz, 19, Buzz, Fizz, 22,\n",
        "23, Fizz, Buzz, 26, Fizz, 28, 29, Fizz Buzz, 31, 32, Fizz, 34, Buzz, Fizz, ...\"\"\""
      ],
      "metadata": {
        "id": "duQz1O6x6wu1"
      },
      "execution_count": null,
      "outputs": []
    },
    {
      "cell_type": "code",
      "source": [],
      "metadata": {
        "id": "utYKJdIqArQe"
      },
      "execution_count": null,
      "outputs": []
    },
    {
      "cell_type": "code",
      "source": [
        "n = int(input(\"Enter your number: \"))\n",
        "\n",
        "for i in range(1,n):\n",
        "    if i % 3 == 0 and i % 5 == 0:\n",
        "        print(\"Fizz Buzz\")\n",
        "    elif i % 3 == 0:\n",
        "        print(\"Fizz\")\n",
        "    elif i % 5 == 0:\n",
        "        print(\"Buzz\")\n",
        "    else:\n",
        "        print(i)"
      ],
      "metadata": {
        "id": "ddxJnhwB60e4"
      },
      "execution_count": null,
      "outputs": []
    },
    {
      "cell_type": "code",
      "source": [],
      "metadata": {
        "id": "xpqFGzfsB8A1"
      },
      "execution_count": null,
      "outputs": []
    },
    {
      "cell_type": "markdown",
      "source": [
        "# Functions:-"
      ],
      "metadata": {
        "id": "cQ8cNBiEUq0g"
      }
    },
    {
      "cell_type": "code",
      "source": [
        "print(\"coding\")"
      ],
      "metadata": {
        "colab": {
          "base_uri": "https://localhost:8080/"
        },
        "id": "O2XLAkJ7Uu2A",
        "outputId": "2ea2aefd-558c-47d1-bad9-6c6e6fdb4837"
      },
      "execution_count": null,
      "outputs": [
        {
          "output_type": "stream",
          "name": "stdout",
          "text": [
            "coding\n"
          ]
        }
      ]
    },
    {
      "cell_type": "code",
      "source": [
        "def box():\n",
        "    print(\"This is my box\")"
      ],
      "metadata": {
        "id": "VQNmAZNOUyhN"
      },
      "execution_count": null,
      "outputs": []
    },
    {
      "cell_type": "code",
      "source": [
        "box()"
      ],
      "metadata": {
        "colab": {
          "base_uri": "https://localhost:8080/"
        },
        "id": "nzgoYcfPUye3",
        "outputId": "bd415563-3f3b-4f67-8227-b388bbe2de66"
      },
      "execution_count": null,
      "outputs": [
        {
          "output_type": "stream",
          "name": "stdout",
          "text": [
            "This is my box\n"
          ]
        }
      ]
    },
    {
      "cell_type": "code",
      "source": [
        "def func(str):\n",
        "    print(str)"
      ],
      "metadata": {
        "id": "Rc9VL7xDUycB"
      },
      "execution_count": null,
      "outputs": []
    },
    {
      "cell_type": "code",
      "source": [
        "func(\"coding\")"
      ],
      "metadata": {
        "colab": {
          "base_uri": "https://localhost:8080/"
        },
        "id": "j5gz2JCTUyY6",
        "outputId": "bdf43443-301c-4eaa-a841-925c77f456c2"
      },
      "execution_count": null,
      "outputs": [
        {
          "output_type": "stream",
          "name": "stdout",
          "text": [
            "coding\n"
          ]
        }
      ]
    },
    {
      "cell_type": "code",
      "source": [
        "def func(a, b):\n",
        "    return a+b"
      ],
      "metadata": {
        "id": "fnyFpWemZTbF"
      },
      "execution_count": null,
      "outputs": []
    },
    {
      "cell_type": "code",
      "source": [
        "func(5,6)"
      ],
      "metadata": {
        "colab": {
          "base_uri": "https://localhost:8080/"
        },
        "id": "9B63Lg1HZzlk",
        "outputId": "cddebd86-a8c4-4128-eef9-a115e23dd2ee"
      },
      "execution_count": null,
      "outputs": [
        {
          "output_type": "execute_result",
          "data": {
            "text/plain": [
              "11"
            ]
          },
          "metadata": {},
          "execution_count": 10
        }
      ]
    },
    {
      "cell_type": "code",
      "source": [
        "a = [1,4,7,3,78,6,4,\"coding\",\"fun\",\"python\",\"ML4E\"]"
      ],
      "metadata": {
        "id": "8aaHxZFJZzeP"
      },
      "execution_count": null,
      "outputs": []
    },
    {
      "cell_type": "code",
      "source": [
        "def test(a):\n",
        "    lst = []\n",
        "    for i in a:\n",
        "        if type(i) == str:\n",
        "            lst.append(i)\n",
        "    return lst"
      ],
      "metadata": {
        "id": "uRmS9BMTaAow"
      },
      "execution_count": null,
      "outputs": []
    },
    {
      "cell_type": "code",
      "source": [
        "test(a)"
      ],
      "metadata": {
        "colab": {
          "base_uri": "https://localhost:8080/"
        },
        "id": "EaGXC-KAaAmK",
        "outputId": "5288d4da-9475-452a-fa06-59f195c4f334"
      },
      "execution_count": null,
      "outputs": [
        {
          "output_type": "execute_result",
          "data": {
            "text/plain": [
              "['coding', 'fun', 'python', 'ML4E']"
            ]
          },
          "metadata": {},
          "execution_count": 17
        }
      ]
    },
    {
      "cell_type": "code",
      "source": [
        "a"
      ],
      "metadata": {
        "colab": {
          "base_uri": "https://localhost:8080/"
        },
        "id": "2t2gfb09badt",
        "outputId": "9be6b92f-21a7-4f2c-dd6f-b709f69309b8"
      },
      "execution_count": null,
      "outputs": [
        {
          "output_type": "execute_result",
          "data": {
            "text/plain": [
              "[1, 4, 7, 3, 78, 6, 4, 'coding', 'fun', 'python', 'ML4E']"
            ]
          },
          "metadata": {},
          "execution_count": 19
        }
      ]
    },
    {
      "cell_type": "code",
      "source": [
        "def test1(lst) :\n",
        "    l_num = []\n",
        "    l_str = []\n",
        "    for i in lst :\n",
        "        if type(i) == str:\n",
        "            l_str.append(i)\n",
        "        else :\n",
        "            l_num.append(i)\n",
        "    return l_str, l_num"
      ],
      "metadata": {
        "id": "-jy1NPtuadQb"
      },
      "execution_count": null,
      "outputs": []
    },
    {
      "cell_type": "code",
      "source": [
        "test1(a)"
      ],
      "metadata": {
        "colab": {
          "base_uri": "https://localhost:8080/"
        },
        "id": "bQucY9ZeadNx",
        "outputId": "5413328f-5e5c-4c67-da3e-5cc25dcceef0"
      },
      "execution_count": null,
      "outputs": [
        {
          "output_type": "execute_result",
          "data": {
            "text/plain": [
              "(['coding', 'fun', 'python', 'ML4E'], [1, 4, 7, 3, 78, 6, 4])"
            ]
          },
          "metadata": {},
          "execution_count": 21
        }
      ]
    },
    {
      "cell_type": "code",
      "source": [],
      "metadata": {
        "id": "onB8WhTEbkAh"
      },
      "execution_count": null,
      "outputs": []
    }
  ],
  "metadata": {
    "kernelspec": {
      "display_name": "Python 3",
      "name": "python3"
    },
    "language_info": {
      "codemirror_mode": {
        "name": "ipython",
        "version": 3
      },
      "file_extension": ".py",
      "mimetype": "text/x-python",
      "name": "python",
      "nbconvert_exporter": "python",
      "pygments_lexer": "ipython3",
      "version": "3.11.5"
    },
    "colab": {
      "provenance": [],
      "collapsed_sections": [
        "PYk_eQ6qtBCB",
        "rdwk-vRStBCE",
        "-TaipLLTtBCL",
        "cB5ukZkqtBCR",
        "GgwNs_RItBCU",
        "gCE71pzrtBCV",
        "e-1cbqYEtBCY",
        "g4jEbkqAtBCa",
        "EYHXOXi_tBCb",
        "KdjoyB76tBCc",
        "fEFAlLLQtBCc",
        "rOGCIBcXDJfv"
      ]
    }
  },
  "nbformat": 4,
  "nbformat_minor": 0
}