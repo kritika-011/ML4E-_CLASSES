{
  "nbformat": 4,
  "nbformat_minor": 0,
  "metadata": {
    "colab": {
      "provenance": []
    },
    "kernelspec": {
      "name": "python3",
      "display_name": "Python 3"
    },
    "language_info": {
      "name": "python"
    }
  },
  "cells": [
    {
      "cell_type": "code",
      "execution_count": null,
      "metadata": {
        "id": "cd9NI0n1SjfO"
      },
      "outputs": [],
      "source": [
        "!pwd"
      ]
    },
    {
      "cell_type": "code",
      "source": [
        "!ls"
      ],
      "metadata": {
        "id": "kxL7lA0xXCpF"
      },
      "execution_count": null,
      "outputs": []
    },
    {
      "cell_type": "code",
      "source": [
        "!mkdir files"
      ],
      "metadata": {
        "id": "_CF_iGruSrD-"
      },
      "execution_count": null,
      "outputs": []
    },
    {
      "cell_type": "code",
      "source": [
        "!ls"
      ],
      "metadata": {
        "id": "ZD207k5Mz_Na"
      },
      "execution_count": null,
      "outputs": []
    },
    {
      "cell_type": "code",
      "source": [
        "!pwd"
      ],
      "metadata": {
        "id": "5cIUXwO-TwCQ"
      },
      "execution_count": null,
      "outputs": []
    },
    {
      "cell_type": "code",
      "source": [
        "%cd /content/files"
      ],
      "metadata": {
        "id": "hHoZIpKOTyJO"
      },
      "execution_count": null,
      "outputs": []
    },
    {
      "cell_type": "code",
      "source": [
        "!pwd"
      ],
      "metadata": {
        "id": "FFX57OrzT35R"
      },
      "execution_count": null,
      "outputs": []
    },
    {
      "cell_type": "markdown",
      "source": [
        "There are two different methods for opening a file :\n",
        "- \"r\" - Read - Default value. Opens a file for reading, error if the file does not exist\n",
        "\n",
        "- \"w\" - Write - Opens a file for writing, creates the file if it does not exist\n",
        "\n",
        "- \"a\" - Append - Opens a file for appending, creates the file if it does not exist"
      ],
      "metadata": {
        "id": "vkC95fgQTatx"
      }
    },
    {
      "cell_type": "code",
      "source": [
        "with open(\"test.txt\", \"r\") as f:\n",
        "    print(f.read())"
      ],
      "metadata": {
        "id": "A9jj92rCEfQ1"
      },
      "execution_count": null,
      "outputs": []
    },
    {
      "cell_type": "code",
      "source": [
        "with open(\"test.txt\" , \"r\") as f :\n",
        "    print(f.read())"
      ],
      "metadata": {
        "id": "9dERB4SrS1Se"
      },
      "execution_count": null,
      "outputs": []
    },
    {
      "cell_type": "code",
      "source": [
        "with open(\"test.txt\" , \"w\") as f :\n",
        "    f.write(\"I love coding.\")"
      ],
      "metadata": {
        "id": "MMvk05rrTGsc"
      },
      "execution_count": null,
      "outputs": []
    },
    {
      "cell_type": "code",
      "source": [
        "!ls"
      ],
      "metadata": {
        "id": "iTgLjguRXL5h"
      },
      "execution_count": null,
      "outputs": []
    },
    {
      "cell_type": "code",
      "source": [
        "with open(\"test.txt\" , \"r\") as f :\n",
        "    print(f.read())"
      ],
      "metadata": {
        "id": "jQZOoB39WWJb"
      },
      "execution_count": null,
      "outputs": []
    },
    {
      "cell_type": "code",
      "source": [
        "with open(\"test.txt\" , \"w\") as f :\n",
        "    print(f.read())"
      ],
      "metadata": {
        "id": "uIwxPQMeUYCf"
      },
      "execution_count": null,
      "outputs": []
    },
    {
      "cell_type": "code",
      "source": [
        "with open(\"test.txt\" , \"w\") as f :\n",
        "    f.write(\"Coding is fun.\")"
      ],
      "metadata": {
        "id": "N4RAAIJhWFTw"
      },
      "execution_count": null,
      "outputs": []
    },
    {
      "cell_type": "code",
      "source": [
        "with open(\"test.txt\" , \"r\") as f :\n",
        "    print(f.read())"
      ],
      "metadata": {
        "id": "HGIxKh29WJ35"
      },
      "execution_count": null,
      "outputs": []
    },
    {
      "cell_type": "code",
      "source": [
        "with open(\"test.txt\" , \"a\") as f :\n",
        "    f.write(\"I love coding.\")"
      ],
      "metadata": {
        "id": "coetbYuIWscj"
      },
      "execution_count": null,
      "outputs": []
    },
    {
      "cell_type": "code",
      "source": [
        "with open(\"test.txt\" , \"r\") as f :\n",
        "    print(f.read())"
      ],
      "metadata": {
        "id": "djPQsaqcW4HW"
      },
      "execution_count": null,
      "outputs": []
    },
    {
      "cell_type": "code",
      "source": [
        "with open(\"test.txt\" , \"a\") as f :\n",
        "    f.write(\"\\nI love python.\")"
      ],
      "metadata": {
        "id": "AOKQIW0tW6Hk"
      },
      "execution_count": null,
      "outputs": []
    },
    {
      "cell_type": "code",
      "source": [
        "with open(\"test.txt\" , \"r\") as f :\n",
        "    print(f.read())"
      ],
      "metadata": {
        "id": "CZJwQfvhYok3"
      },
      "execution_count": null,
      "outputs": []
    },
    {
      "cell_type": "code",
      "source": [
        "with open(\"test.txt\" , \"r\") as f :\n",
        "    print(f.readlines())"
      ],
      "metadata": {
        "id": "taNzLYarYvJe"
      },
      "execution_count": null,
      "outputs": []
    },
    {
      "cell_type": "code",
      "source": [
        "import os\n",
        "os.path.getsize(\"test.txt\")"
      ],
      "metadata": {
        "id": "zTHzIhnEY0YZ"
      },
      "execution_count": null,
      "outputs": []
    },
    {
      "cell_type": "code",
      "source": [
        "os.rename(\"test.txt\", \"new.txt\")"
      ],
      "metadata": {
        "id": "IgAI_TTuaZgD"
      },
      "execution_count": null,
      "outputs": []
    },
    {
      "cell_type": "code",
      "source": [
        "os.path.exists(\"new.txt\")"
      ],
      "metadata": {
        "id": "EacWdNDMeSaW"
      },
      "execution_count": null,
      "outputs": []
    },
    {
      "cell_type": "code",
      "source": [
        "os.remove(\"new.txt\")"
      ],
      "metadata": {
        "id": "mFQBEjZWZIwi"
      },
      "execution_count": null,
      "outputs": []
    },
    {
      "cell_type": "code",
      "source": [
        "with open(\"test.txt\" , \"w\") as f :\n",
        "    f.write(\"I love coding.\\nCoding is fun.\\nI code in Python.\")"
      ],
      "metadata": {
        "id": "PRbtxt06Z7ep"
      },
      "execution_count": null,
      "outputs": []
    },
    {
      "cell_type": "code",
      "source": [
        "with open(\"test.txt\" , \"r\") as f :\n",
        "    print(f.readlines())"
      ],
      "metadata": {
        "id": "rxROzzXxaGd7"
      },
      "execution_count": null,
      "outputs": []
    },
    {
      "cell_type": "code",
      "source": [
        "with open(\"test.txt\" , \"r\") as f :\n",
        "    print(f.read())"
      ],
      "metadata": {
        "id": "pIyv4IrAHamw"
      },
      "execution_count": null,
      "outputs": []
    },
    {
      "cell_type": "code",
      "source": [
        "with open(\"test.txt\" , \"r\") as f :         #seek()\n",
        "    print(f.read())\n",
        "    f.seek(10)\n",
        "    print(f.read())"
      ],
      "metadata": {
        "id": "EKm0BLXIaPgo"
      },
      "execution_count": null,
      "outputs": []
    },
    {
      "cell_type": "markdown",
      "source": [
        "Data type in file:-\n",
        "- \"t\" - Text - Default value. Text mode\n",
        "\n",
        "- \"b\" - Binary - Binary mode (e.g. images)"
      ],
      "metadata": {
        "id": "48ShTvwjbbkO"
      }
    },
    {
      "cell_type": "code",
      "source": [
        "os.remove(\"test.txt\")"
      ],
      "metadata": {
        "id": "1JYSnbWPIpmN"
      },
      "execution_count": null,
      "outputs": []
    },
    {
      "cell_type": "code",
      "source": [
        "with open(\"test.txt\" , \"wt\") as f :\n",
        "    f.write(\"I love coding.\\nCoding is fun.\\nI code in Python.\")"
      ],
      "metadata": {
        "id": "H_slDMl1ayTS"
      },
      "execution_count": null,
      "outputs": []
    },
    {
      "cell_type": "code",
      "source": [],
      "metadata": {
        "id": "MaoHxo85eb5j"
      },
      "execution_count": null,
      "outputs": []
    },
    {
      "cell_type": "code",
      "source": [
        "bytearray(5)"
      ],
      "metadata": {
        "id": "Xy24O4H7I2Li"
      },
      "execution_count": null,
      "outputs": []
    },
    {
      "cell_type": "code",
      "source": [
        "with open(\"test.bin\" , \"wb\") as f :\n",
        "    f.write(bytearray(5))"
      ],
      "metadata": {
        "id": "WDRyu09IchBE"
      },
      "execution_count": null,
      "outputs": []
    },
    {
      "cell_type": "code",
      "source": [
        "with open(\"test.bin\" , \"rb\") as f :\n",
        "    print(f.read())"
      ],
      "metadata": {
        "id": "dkTQIabwcurB"
      },
      "execution_count": null,
      "outputs": []
    },
    {
      "cell_type": "code",
      "source": [
        "os.remove(\"test.txt\")"
      ],
      "metadata": {
        "id": "BGyNSWrXep-n"
      },
      "execution_count": null,
      "outputs": []
    },
    {
      "cell_type": "code",
      "source": [
        "import json"
      ],
      "metadata": {
        "id": "5-Q2mIUvdAt1"
      },
      "execution_count": null,
      "outputs": []
    },
    {
      "cell_type": "code",
      "source": [
        "data= {\n",
        "    \"Name\" : \"Ram\",\n",
        "    \"Gmail_id\" : \"Ram@gmail.com\",\n",
        "    \"Phone_number\" : 7777777777,\n",
        "    \"Subject\" : [\"Math\", \"Physics\", \"Chemistry\"]\n",
        "}"
      ],
      "metadata": {
        "id": "wdXOxarhd-Xz"
      },
      "execution_count": null,
      "outputs": []
    },
    {
      "cell_type": "code",
      "source": [
        "data"
      ],
      "metadata": {
        "id": "PkrS3DibdjAJ"
      },
      "execution_count": null,
      "outputs": []
    },
    {
      "cell_type": "code",
      "source": [
        "with open(\"data.json\" , \"w\" ) as f :\n",
        "    json.dump(data, f)"
      ],
      "metadata": {
        "id": "Elvpv_rhfYO2"
      },
      "execution_count": null,
      "outputs": []
    },
    {
      "cell_type": "code",
      "source": [
        "with open(\"data.json\" , \"r\") as f :\n",
        "    data_load = json.load(f)"
      ],
      "metadata": {
        "id": "VCWgsE0Jfgqh"
      },
      "execution_count": null,
      "outputs": []
    },
    {
      "cell_type": "code",
      "source": [
        "data_load"
      ],
      "metadata": {
        "id": "RfMPTPsFfsW0"
      },
      "execution_count": null,
      "outputs": []
    },
    {
      "cell_type": "code",
      "source": [],
      "metadata": {
        "id": "ZvkUoVONjPjn"
      },
      "execution_count": null,
      "outputs": []
    }
  ]
}