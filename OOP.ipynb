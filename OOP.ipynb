{
  "nbformat": 4,
  "nbformat_minor": 0,
  "metadata": {
    "colab": {
      "provenance": [],
      "collapsed_sections": [
        "GVDNIOamgBPx",
        "xVYttGiXGdI3",
        "ElQeFPTOMub9"
      ]
    },
    "kernelspec": {
      "name": "python3",
      "display_name": "Python 3"
    },
    "language_info": {
      "name": "python"
    }
  },
  "cells": [
    {
      "cell_type": "markdown",
      "source": [
        "# OOP:-"
      ],
      "metadata": {
        "id": "GVDNIOamgBPx"
      }
    },
    {
      "cell_type": "code",
      "execution_count": null,
      "metadata": {
        "id": "zaauiSPkf1vJ"
      },
      "outputs": [],
      "source": [
        "class ml4e:\n",
        "    def __init__(self, str):\n",
        "        self.str = str\n",
        "\n",
        "    def return_string(self):\n",
        "        return self.str\n"
      ]
    },
    {
      "cell_type": "code",
      "source": [
        "obj = ml4e(\"coding\")"
      ],
      "metadata": {
        "id": "gGaFtAANf_9q"
      },
      "execution_count": null,
      "outputs": []
    },
    {
      "cell_type": "code",
      "source": [
        "obj.return_string()"
      ],
      "metadata": {
        "id": "fbBrNxxrf_30"
      },
      "execution_count": null,
      "outputs": []
    },
    {
      "cell_type": "code",
      "source": [
        "class student:\n",
        "    def __init__(self ,phone_number , email_id , student_id ):\n",
        "        self.phone_number = phone_number\n",
        "        self.email_id = email_id\n",
        "        self.student_id = student_id\n",
        "\n",
        "    def return_student_details(self) :\n",
        "        return self.student_id ,self.phone_number ,self.email_id\n"
      ],
      "metadata": {
        "id": "qnCuoftif_1l"
      },
      "execution_count": null,
      "outputs": []
    },
    {
      "cell_type": "code",
      "source": [
        "obj = student(9426792945, \"@gmail.com\", 111)"
      ],
      "metadata": {
        "id": "4LUTAikfdpqF"
      },
      "execution_count": null,
      "outputs": []
    },
    {
      "cell_type": "code",
      "source": [
        "obj.phone_number = 777777777777"
      ],
      "metadata": {
        "id": "11L2RiFYd81L"
      },
      "execution_count": null,
      "outputs": []
    },
    {
      "cell_type": "code",
      "source": [
        "obj.return_student_details()"
      ],
      "metadata": {
        "id": "3RMy7qOse-Vq"
      },
      "execution_count": null,
      "outputs": []
    },
    {
      "cell_type": "code",
      "source": [
        "class car:\n",
        "    def __init__(self , year , name , model, speed ) :\n",
        "\n",
        "        self.__year = year\n",
        "        self.__name = name\n",
        "        self.__model = model\n",
        "        self.__speed = 0\n",
        "\n",
        "    def set_speed(self,speed) :\n",
        "        self.__speed = 0 if speed < 0 else speed\n",
        "\n",
        "    def get_speed(self)  :\n",
        "        return self.__speed\n",
        "\n",
        "    def set_name(self,name):\n",
        "        self.__name = name\n",
        "\n",
        "    def get_name(self):\n",
        "        return self.__name"
      ],
      "metadata": {
        "id": "N-q_g5qrftp1"
      },
      "execution_count": null,
      "outputs": []
    },
    {
      "cell_type": "code",
      "source": [
        "obj = car(1999, \"Maruti\", \"S1\", 100)"
      ],
      "metadata": {
        "id": "T3pnIv-8ftn2"
      },
      "execution_count": null,
      "outputs": []
    },
    {
      "cell_type": "code",
      "source": [
        "obj.get_speed()"
      ],
      "metadata": {
        "id": "vpVNE1LTf1Zn"
      },
      "execution_count": null,
      "outputs": []
    },
    {
      "cell_type": "code",
      "source": [
        "obj.__speed = 50"
      ],
      "metadata": {
        "id": "0aUWjf33f1Xj"
      },
      "execution_count": null,
      "outputs": []
    },
    {
      "cell_type": "code",
      "source": [
        "obj.get_speed()"
      ],
      "metadata": {
        "id": "yBVXyXrRf1VS"
      },
      "execution_count": null,
      "outputs": []
    },
    {
      "cell_type": "code",
      "source": [
        "obj.set_speed(50)"
      ],
      "metadata": {
        "id": "1cwjBCtdftlh"
      },
      "execution_count": null,
      "outputs": []
    },
    {
      "cell_type": "code",
      "source": [
        "obj.get_speed()"
      ],
      "metadata": {
        "id": "g1SOphSvftjK"
      },
      "execution_count": null,
      "outputs": []
    },
    {
      "cell_type": "code",
      "source": [
        "class parent():\n",
        "    def test_parent(self) :\n",
        "        print(\"This is my parent class.\")"
      ],
      "metadata": {
        "id": "Kn--9YNZh1Vt"
      },
      "execution_count": null,
      "outputs": []
    },
    {
      "cell_type": "code",
      "source": [
        "class child(parent):\n",
        "    def test_child(self):\n",
        "        print(\"This is my child class.\")"
      ],
      "metadata": {
        "id": "1w56abXih1Sw"
      },
      "execution_count": null,
      "outputs": []
    },
    {
      "cell_type": "code",
      "source": [
        "obj = child()"
      ],
      "metadata": {
        "id": "fHRSJdM6h3d6"
      },
      "execution_count": null,
      "outputs": []
    },
    {
      "cell_type": "code",
      "source": [
        "obj.test_child()"
      ],
      "metadata": {
        "id": "qqLOkmufh3b2"
      },
      "execution_count": null,
      "outputs": []
    },
    {
      "cell_type": "code",
      "source": [
        "obj.test_parent()"
      ],
      "metadata": {
        "id": "BYp7vIs8h3ZN"
      },
      "execution_count": null,
      "outputs": []
    },
    {
      "cell_type": "code",
      "source": [
        "class class1():\n",
        "    def test_class1(self):\n",
        "        print(\"This is my class1.\")\n",
        "\n",
        "class class2(class1):\n",
        "    def test_class2(self) :\n",
        "        print(\"This is my class2.\")\n",
        "\n",
        "class class3(class2):\n",
        "    def test_class3(self):\n",
        "        print(\"This is my class3.\")"
      ],
      "metadata": {
        "id": "9mexfvxoiD_P"
      },
      "execution_count": null,
      "outputs": []
    },
    {
      "cell_type": "code",
      "source": [
        "obj = class3()"
      ],
      "metadata": {
        "id": "RBbl-lvniD9A"
      },
      "execution_count": null,
      "outputs": []
    },
    {
      "cell_type": "code",
      "source": [
        "obj.test_class1()"
      ],
      "metadata": {
        "id": "80Dah9Vdiy-r"
      },
      "execution_count": null,
      "outputs": []
    },
    {
      "cell_type": "code",
      "source": [
        "class class4():\n",
        "    def test_class4(self):\n",
        "        print(\"This is my class4.\")\n",
        "\n",
        "class class5():\n",
        "    def test_class5(self) :\n",
        "        print(\"This is my class5.\")"
      ],
      "metadata": {
        "id": "YJQ_Cbxwiy7f"
      },
      "execution_count": null,
      "outputs": []
    },
    {
      "cell_type": "code",
      "source": [
        "class class6(class4, class5):\n",
        "    pass"
      ],
      "metadata": {
        "id": "5UJ0BQkcjLh_"
      },
      "execution_count": null,
      "outputs": []
    },
    {
      "cell_type": "code",
      "source": [
        "obj = class6()"
      ],
      "metadata": {
        "id": "88apTvrDjLfM"
      },
      "execution_count": null,
      "outputs": []
    },
    {
      "cell_type": "code",
      "source": [
        "obj.test_class5()"
      ],
      "metadata": {
        "id": "oZZnJS8RjmV5"
      },
      "execution_count": null,
      "outputs": []
    },
    {
      "cell_type": "code",
      "source": [],
      "metadata": {
        "id": "sPT-2O7mjmTp"
      },
      "execution_count": null,
      "outputs": []
    },
    {
      "cell_type": "markdown",
      "source": [
        "# Exception Handeling:-"
      ],
      "metadata": {
        "id": "xVYttGiXGdI3"
      }
    },
    {
      "cell_type": "markdown",
      "source": [
        "Exception Block:-\n",
        "- try:\n",
        "- except:\n",
        "- else:\n",
        "- finally:"
      ],
      "metadata": {
        "id": "Y5-gX66jkAp2"
      }
    },
    {
      "cell_type": "markdown",
      "source": [
        "Types of Exception:-\n",
        "- ArithmeticError Raised when an error occurs in numeric calculations\n",
        "- AssertionError Raised when an assert statement fails\n",
        "- AttributeError Raised when attribute reference or assignment fails\n",
        "- Exception\tBase class for all exceptions\n",
        "- EOFError\tRaised when the input() method hits an \"end of file\" condition (EOF)\n",
        "- FloatingPointError\tRaised when a floating point calculation fails\n",
        "- GeneratorExit\tRaised when a generator is closed (with the close() method)\n",
        "- ImportError\tRaised when an imported module does not exist\n",
        "- IndentationError\tRaised when indentation is not correct\n",
        "- IndexError\tRaised when an index of a sequence does not exist\n",
        "- KeyError\tRaised when a key does not exist in a dictionary\n",
        "- KeyboardInterrupt\tRaised when the user presses Ctrl+c, Ctrl+z or Delete\n",
        "- LookupError\tRaised when errors raised cant be found\n",
        "- MemoryError\tRaised when a program runs out of memory\n",
        "- NameError\tRaised when a variable does not exist\n",
        "- NotImplementedError\tRaised when an abstract method requires an inherited class to override the method\n",
        "- OSError\tRaised when a system related operation causes an error\n",
        "- OverflowError\tRaised when the result of a numeric calculation is too large\n",
        "- ReferenceError\tRaised when a weak reference object does not exist\n",
        "- RuntimeError\tRaised when an error occurs that do not belong to any specific exceptions\n",
        "- StopIteration\tRaised when the next() method of an iterator has no further values\n",
        "- SyntaxError\tRaised when a syntax error occurs\n",
        "- TabError\tRaised when indentation consists of tabs or spaces\n",
        "- SystemError\tRaised when a system error occurs\n",
        "- SystemExit\tRaised when the sys.exit() function is called\n",
        "- TypeError\tRaised when two different types are combined\n",
        "- UnboundLocalError\tRaised when a local variable is referenced before assignment\n",
        "- UnicodeError\tRaised when a unicode problem occurs\n",
        "- UnicodeEncodeError\tRaised when a unicode encoding problem occurs\n",
        "- UnicodeDecodeError\tRaised when a unicode decoding problem occurs\n",
        "- UnicodeTranslateError\tRaised when a unicode translation problem occurs\n",
        "- ValueError\tRaised when there is a wrong value in a specified data type\n",
        "- ZeroDivisionError\tRaised when the second operator in a division is zero"
      ],
      "metadata": {
        "id": "XNDhx9I7mM66"
      }
    },
    {
      "cell_type": "code",
      "source": [
        "try:\n",
        "    10/0\n",
        "except Exception as e:\n",
        "    print(\"This is our exception: \", e)\n",
        "else:\n",
        "    print(\"Success\")\n",
        "\n",
        "print(\"Program successfully executed.\")"
      ],
      "metadata": {
        "id": "FU6MI7IVGfwm"
      },
      "execution_count": null,
      "outputs": []
    },
    {
      "cell_type": "code",
      "source": [],
      "metadata": {
        "id": "mvV4oGJntJrv"
      },
      "execution_count": null,
      "outputs": []
    },
    {
      "cell_type": "markdown",
      "source": [
        "# Logging:-"
      ],
      "metadata": {
        "id": "ElQeFPTOMub9"
      }
    },
    {
      "cell_type": "markdown",
      "source": [
        "1. NOTSET\n",
        "2. DEBUG\n",
        "3. INFO\n",
        "4. WARNING\n",
        "5. ERROR\n",
        "6. CRITICAL"
      ],
      "metadata": {
        "id": "eVBug_H0NVZi"
      }
    },
    {
      "cell_type": "code",
      "source": [
        "# In Google colab the below code does not run properly so use other IDE like Vs code or Pycharm."
      ],
      "metadata": {
        "id": "qvwVxieIsnar"
      },
      "execution_count": null,
      "outputs": []
    },
    {
      "cell_type": "code",
      "source": [
        "# import logging\n",
        "# logging.basicConfig(filename = \"test.log\" , level = logging.DEBUG , format = '%(asctime)s %(name)s %(levelname)s %(message)s')\n",
        "# logging.info(\"This is my info logging\" )\n",
        "# logging.error(\"This is my error msg\" )\n",
        "# logging.critical(\"This is my critical\")\n",
        "# logging.warning(\"This is my warning.\")\n",
        "# logging.shutdown()"
      ],
      "metadata": {
        "id": "M9vmYyk4NsDZ"
      },
      "execution_count": null,
      "outputs": []
    },
    {
      "cell_type": "code",
      "source": [],
      "metadata": {
        "id": "V1c9WOQ4P_Z1"
      },
      "execution_count": null,
      "outputs": []
    }
  ]
}